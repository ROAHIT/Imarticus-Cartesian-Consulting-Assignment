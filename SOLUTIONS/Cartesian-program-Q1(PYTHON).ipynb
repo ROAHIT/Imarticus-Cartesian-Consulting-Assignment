{
  "nbformat": 4,
  "nbformat_minor": 0,
  "metadata": {
    "colab": {
      "name": "Cartesian .ipynb",
      "provenance": [],
      "collapsed_sections": []
    },
    "kernelspec": {
      "name": "python3",
      "display_name": "Python 3"
    },
    "language_info": {
      "name": "python"
    }
  },
  "cells": [
    {
      "cell_type": "code",
      "execution_count": 72,
      "metadata": {
        "colab": {
          "base_uri": "https://localhost:8080/"
        },
        "id": "7Fttszu5fWZz",
        "outputId": "1a7be7c4-a279-469d-fdb6-60e0167061e4"
      },
      "outputs": [
        {
          "output_type": "stream",
          "name": "stdout",
          "text": [
            "Enter the abstract : The program takes input a short abstract and outputs the following\n",
            "\n",
            "The reverse of the given words:\n",
            "\n",
            "Following the outputs and abstract short a input takes program the\n",
            "\n",
            "The top 2 occurrence of the given words:\n",
            "\n",
            "the : 2 times\n",
            "outputs : 1 times\n",
            "short : 1 times\n",
            "program : 1 times\n",
            "following : 1 times\n",
            "and : 1 times\n",
            "takes : 1 times\n",
            "a : 1 times\n",
            "abstract : 1 times\n",
            "input : 1 times\n"
          ]
        }
      ],
      "source": [
        "def reverse(st):                               # function to reverse the words\n",
        "\n",
        "  l=list(st.split(\" \"))\n",
        "  if(l[0][0].isupper()):\n",
        "    f=l[len(l)-1]\n",
        "    st=st.lower()\n",
        "    l=list(st.split(\" \"))\n",
        "    l.remove(f)\n",
        "    print(f[0].upper()+f[1:],end=' ')\n",
        "  \n",
        "  print(*l[::-1])\n",
        "\n",
        "def word_count(st):                         # function to find the top 2 occurrence of words\n",
        "\n",
        "  st=st.lower()\n",
        "  c1=[]\n",
        "  c2=[]\n",
        "\n",
        "  wc=list(set(st.split(\" \")))\n",
        "  string=list(st.split(\" \"))\n",
        "\n",
        "  for i in wc:\n",
        "    c1.append(string.count(i))\n",
        "    c2.append([i,string.count(i)])\n",
        "\n",
        "  max2=0\n",
        "\n",
        "  for j in range(0,2):  \n",
        "    max1=max(c1)\n",
        "    for i in range(0,len(c2)):\n",
        "      if (max1==c2[i][1]):\n",
        "        print(c2[i][0],':',max1,'times')\n",
        "    i=0\n",
        "    while max1 in c1:\n",
        "      c1.remove(max1)\n",
        "      \n",
        "\n",
        "    \n",
        "st=input(\"Enter the abstract : \")\n",
        "\n",
        "print(\"\\nThe reverse of the given words:\\n\")\n",
        "reverse(st)\n",
        "print(\"\\nThe top 2 occurrence of the given words:\\n\")\n",
        "word_count(st)\n"
      ]
    }
  ]
}